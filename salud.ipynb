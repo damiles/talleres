{
 "cells": [
  {
   "cell_type": "markdown",
   "id": "f4d4c9d2-9eb6-435e-9305-4f12fde0b3c4",
   "metadata": {},
   "source": [
    "Se importan todas las librerías necesarias."
   ]
  },
  {
   "cell_type": "code",
   "execution_count": 21,
   "id": "35eb29c9-4d65-4f2f-9a3d-d1e62c19f32f",
   "metadata": {},
   "outputs": [],
   "source": [
    "import pandas as pd\n",
    "import numpy as np\n",
    "from sklearn import linear_model\n",
    "from sklearn import model_selection\n",
    "from sklearn import tree\n",
    "from sklearn.metrics import classification_report\n",
    "from sklearn.metrics import confusion_matrix\n",
    "from sklearn.metrics import accuracy_score\n",
    "from sklearn.model_selection import KFold\n",
    "from sklearn.model_selection import cross_val_score\n",
    "from IPython.display import Image as PImage\n",
    "from subprocess import check_call\n",
    "from PIL import Image,ImageDraw, ImageFont\n",
    "import matplotlib.pyplot as plt\n",
    "import seaborn as sb\n",
    "%matplotlib inline\n",
    "plt.rcParams['figure.figsize'] = (16,9)\n",
    "plt.style.use('ggplot')"
   ]
  },
  {
   "cell_type": "markdown",
   "id": "51ef48fe-e9b8-41ce-a7ac-91b1df19a087",
   "metadata": {},
   "source": [
    "Se importa el dataset "
   ]
  },
  {
   "cell_type": "code",
   "execution_count": 4,
   "id": "fde14e95-f468-4282-b4eb-72c1b119960b",
   "metadata": {},
   "outputs": [
    {
     "data": {
      "text/html": [
       "<div>\n",
       "<style scoped>\n",
       "    .dataframe tbody tr th:only-of-type {\n",
       "        vertical-align: middle;\n",
       "    }\n",
       "\n",
       "    .dataframe tbody tr th {\n",
       "        vertical-align: top;\n",
       "    }\n",
       "\n",
       "    .dataframe thead th {\n",
       "        text-align: right;\n",
       "    }\n",
       "</style>\n",
       "<table border=\"1\" class=\"dataframe\">\n",
       "  <thead>\n",
       "    <tr style=\"text-align: right;\">\n",
       "      <th></th>\n",
       "      <th>cardiopatia</th>\n",
       "      <th>Sexo</th>\n",
       "      <th>Tabaco</th>\n",
       "      <th>HTA</th>\n",
       "      <th>Diabetes</th>\n",
       "      <th>obesidad</th>\n",
       "      <th>edad_grup</th>\n",
       "    </tr>\n",
       "  </thead>\n",
       "  <tbody>\n",
       "    <tr>\n",
       "      <th>0</th>\n",
       "      <td>2</td>\n",
       "      <td>2</td>\n",
       "      <td>3</td>\n",
       "      <td>2</td>\n",
       "      <td>2</td>\n",
       "      <td>1</td>\n",
       "      <td>4</td>\n",
       "    </tr>\n",
       "    <tr>\n",
       "      <th>1</th>\n",
       "      <td>1</td>\n",
       "      <td>1</td>\n",
       "      <td>2</td>\n",
       "      <td>2</td>\n",
       "      <td>2</td>\n",
       "      <td>2</td>\n",
       "      <td>4</td>\n",
       "    </tr>\n",
       "    <tr>\n",
       "      <th>2</th>\n",
       "      <td>2</td>\n",
       "      <td>2</td>\n",
       "      <td>3</td>\n",
       "      <td>1</td>\n",
       "      <td>1</td>\n",
       "      <td>2</td>\n",
       "      <td>4</td>\n",
       "    </tr>\n",
       "    <tr>\n",
       "      <th>3</th>\n",
       "      <td>2</td>\n",
       "      <td>2</td>\n",
       "      <td>2</td>\n",
       "      <td>1</td>\n",
       "      <td>1</td>\n",
       "      <td>2</td>\n",
       "      <td>4</td>\n",
       "    </tr>\n",
       "    <tr>\n",
       "      <th>4</th>\n",
       "      <td>1</td>\n",
       "      <td>2</td>\n",
       "      <td>1</td>\n",
       "      <td>2</td>\n",
       "      <td>2</td>\n",
       "      <td>2</td>\n",
       "      <td>3</td>\n",
       "    </tr>\n",
       "  </tbody>\n",
       "</table>\n",
       "</div>"
      ],
      "text/plain": [
       "   cardiopatia  Sexo Tabaco HTA Diabetes obesidad  edad_grup\n",
       "0            2     2      3   2        2        1          4\n",
       "1            1     1      2   2        2        2          4\n",
       "2            2     2      3   1        1        2          4\n",
       "3            2     2      2   1        1        2          4\n",
       "4            1     2      1   2        2        2          3"
      ]
     },
     "execution_count": 4,
     "metadata": {},
     "output_type": "execute_result"
    }
   ],
   "source": [
    "path = 'https://www.juanbarrios.com/archivos/cardiopatia.csv'\n",
    "dataframe = pd.read_csv(path)\n",
    "dataframe.head()"
   ]
  },
  {
   "cell_type": "markdown",
   "id": "0251a287-e32a-438e-8456-83e919e6af12",
   "metadata": {},
   "source": [
    "Conocemos el tipo de atributos del dataset. En este caso, hay 3 atributos tipo int(numéricos) y 4 de tipo objeto."
   ]
  },
  {
   "cell_type": "code",
   "execution_count": 6,
   "id": "dde675a7-1765-4f9d-8429-3c813dcd4217",
   "metadata": {},
   "outputs": [
    {
     "data": {
      "text/plain": [
       "cardiopatia     int64\n",
       "Sexo            int64\n",
       "Tabaco         object\n",
       "HTA            object\n",
       "Diabetes       object\n",
       "obesidad       object\n",
       "edad_grup       int64\n",
       "dtype: object"
      ]
     },
     "execution_count": 6,
     "metadata": {},
     "output_type": "execute_result"
    }
   ],
   "source": [
    "dataframe.dtypes"
   ]
  },
  {
   "cell_type": "markdown",
   "id": "7a0c89e0-7f09-493a-bfc4-a085c5cf5571",
   "metadata": {},
   "source": [
    "Los campos de tipo Object son debidos a que a la hora de incluir los datos hay espacios, los cuales se deben de convertir a valores 0 y luego convertir a tipo numerico para poder operar con ellos."
   ]
  },
  {
   "cell_type": "code",
   "execution_count": 11,
   "id": "55488636-9419-450e-bbae-cd141090ce5f",
   "metadata": {},
   "outputs": [
    {
     "data": {
      "text/html": [
       "<div>\n",
       "<style scoped>\n",
       "    .dataframe tbody tr th:only-of-type {\n",
       "        vertical-align: middle;\n",
       "    }\n",
       "\n",
       "    .dataframe tbody tr th {\n",
       "        vertical-align: top;\n",
       "    }\n",
       "\n",
       "    .dataframe thead th {\n",
       "        text-align: right;\n",
       "    }\n",
       "</style>\n",
       "<table border=\"1\" class=\"dataframe\">\n",
       "  <thead>\n",
       "    <tr style=\"text-align: right;\">\n",
       "      <th></th>\n",
       "      <th>cardiopatia</th>\n",
       "      <th>Sexo</th>\n",
       "      <th>Tabaco</th>\n",
       "      <th>HTA</th>\n",
       "      <th>Diabetes</th>\n",
       "      <th>obesidad</th>\n",
       "      <th>edad_grup</th>\n",
       "    </tr>\n",
       "  </thead>\n",
       "  <tbody>\n",
       "    <tr>\n",
       "      <th>count</th>\n",
       "      <td>80.000000</td>\n",
       "      <td>80.00000</td>\n",
       "      <td>80.000000</td>\n",
       "      <td>80.000000</td>\n",
       "      <td>80.000000</td>\n",
       "      <td>80.000000</td>\n",
       "      <td>80.00000</td>\n",
       "    </tr>\n",
       "    <tr>\n",
       "      <th>mean</th>\n",
       "      <td>1.612500</td>\n",
       "      <td>1.67500</td>\n",
       "      <td>1.875000</td>\n",
       "      <td>1.437500</td>\n",
       "      <td>1.812500</td>\n",
       "      <td>1.525000</td>\n",
       "      <td>3.40000</td>\n",
       "    </tr>\n",
       "    <tr>\n",
       "      <th>std</th>\n",
       "      <td>0.490253</td>\n",
       "      <td>0.47133</td>\n",
       "      <td>0.919204</td>\n",
       "      <td>0.547578</td>\n",
       "      <td>0.452664</td>\n",
       "      <td>0.594809</td>\n",
       "      <td>0.62844</td>\n",
       "    </tr>\n",
       "    <tr>\n",
       "      <th>min</th>\n",
       "      <td>1.000000</td>\n",
       "      <td>1.00000</td>\n",
       "      <td>0.000000</td>\n",
       "      <td>0.000000</td>\n",
       "      <td>0.000000</td>\n",
       "      <td>0.000000</td>\n",
       "      <td>2.00000</td>\n",
       "    </tr>\n",
       "    <tr>\n",
       "      <th>25%</th>\n",
       "      <td>1.000000</td>\n",
       "      <td>1.00000</td>\n",
       "      <td>1.000000</td>\n",
       "      <td>1.000000</td>\n",
       "      <td>2.000000</td>\n",
       "      <td>1.000000</td>\n",
       "      <td>3.00000</td>\n",
       "    </tr>\n",
       "    <tr>\n",
       "      <th>50%</th>\n",
       "      <td>2.000000</td>\n",
       "      <td>2.00000</td>\n",
       "      <td>2.000000</td>\n",
       "      <td>1.000000</td>\n",
       "      <td>2.000000</td>\n",
       "      <td>2.000000</td>\n",
       "      <td>3.00000</td>\n",
       "    </tr>\n",
       "    <tr>\n",
       "      <th>75%</th>\n",
       "      <td>2.000000</td>\n",
       "      <td>2.00000</td>\n",
       "      <td>3.000000</td>\n",
       "      <td>2.000000</td>\n",
       "      <td>2.000000</td>\n",
       "      <td>2.000000</td>\n",
       "      <td>4.00000</td>\n",
       "    </tr>\n",
       "    <tr>\n",
       "      <th>max</th>\n",
       "      <td>2.000000</td>\n",
       "      <td>2.00000</td>\n",
       "      <td>3.000000</td>\n",
       "      <td>2.000000</td>\n",
       "      <td>2.000000</td>\n",
       "      <td>2.000000</td>\n",
       "      <td>4.00000</td>\n",
       "    </tr>\n",
       "  </tbody>\n",
       "</table>\n",
       "</div>"
      ],
      "text/plain": [
       "       cardiopatia      Sexo     Tabaco        HTA   Diabetes   obesidad  \\\n",
       "count    80.000000  80.00000  80.000000  80.000000  80.000000  80.000000   \n",
       "mean      1.612500   1.67500   1.875000   1.437500   1.812500   1.525000   \n",
       "std       0.490253   0.47133   0.919204   0.547578   0.452664   0.594809   \n",
       "min       1.000000   1.00000   0.000000   0.000000   0.000000   0.000000   \n",
       "25%       1.000000   1.00000   1.000000   1.000000   2.000000   1.000000   \n",
       "50%       2.000000   2.00000   2.000000   1.000000   2.000000   2.000000   \n",
       "75%       2.000000   2.00000   3.000000   2.000000   2.000000   2.000000   \n",
       "max       2.000000   2.00000   3.000000   2.000000   2.000000   2.000000   \n",
       "\n",
       "       edad_grup  \n",
       "count   80.00000  \n",
       "mean     3.40000  \n",
       "std      0.62844  \n",
       "min      2.00000  \n",
       "25%      3.00000  \n",
       "50%      3.00000  \n",
       "75%      4.00000  \n",
       "max      4.00000  "
      ]
     },
     "execution_count": 11,
     "metadata": {},
     "output_type": "execute_result"
    }
   ],
   "source": [
    "dataframe=dataframe.replace(r'\\s+',0,regex=True)\n",
    "dataframe['Tabaco']=dataframe['Tabaco'].astype(int)\n",
    "dataframe['HTA']=dataframe['HTA'].astype(int)\n",
    "dataframe['Diabetes']=dataframe['Diabetes'].astype(int)\n",
    "dataframe['obesidad']=dataframe['obesidad'].astype(int)\n",
    "dataframe.describe()"
   ]
  },
  {
   "cell_type": "markdown",
   "id": "7f53dda8-7b71-4c62-8bec-3ebcb84bf7e3",
   "metadata": {},
   "source": [
    "# Regresión logística"
   ]
  },
  {
   "cell_type": "markdown",
   "id": "82b94e49-725a-4e1c-9a9f-ff29cb17dbb1",
   "metadata": {},
   "source": [
    "Se le indica al algoritmo que nuestra variable predictiva es 'cardiopatia'. El sistema nos muestra 80 casos con 6 atributos sin contar la variable predictiva."
   ]
  },
  {
   "cell_type": "code",
   "execution_count": 12,
   "id": "ed2dc111-f2c7-429f-a09d-a05d026919e4",
   "metadata": {},
   "outputs": [
    {
     "data": {
      "text/plain": [
       "(80, 6)"
      ]
     },
     "execution_count": 12,
     "metadata": {},
     "output_type": "execute_result"
    }
   ],
   "source": [
    "X = np.array(dataframe.drop(['cardiopatia'],1))\n",
    "y = np.array(dataframe['cardiopatia'])\n",
    "X.shape"
   ]
  },
  {
   "cell_type": "markdown",
   "id": "e0d222ba-21a7-4e3c-af6f-073c63d1a3c8",
   "metadata": {},
   "source": [
    "Se aplica el modelo. En este caso, regresión logística (algoritmo de clasificación) con un peso entre las clases de  1:1.633"
   ]
  },
  {
   "cell_type": "code",
   "execution_count": 14,
   "id": "6893607b-3e65-4f3a-8d85-b5899a2bdb4b",
   "metadata": {},
   "outputs": [
    {
     "data": {
      "text/plain": [
       "LogisticRegression(class_weight={1: 1.633})"
      ]
     },
     "execution_count": 14,
     "metadata": {},
     "output_type": "execute_result"
    }
   ],
   "source": [
    "model = linear_model.LogisticRegression(class_weight={1:1.633})\n",
    "model.fit(X,y)"
   ]
  },
  {
   "cell_type": "markdown",
   "id": "9a9f1a9b-67f0-4db6-88d9-6162e53ba7cf",
   "metadata": {},
   "source": [
    "Se obtiene el Índice de predicción de nuestro modelo."
   ]
  },
  {
   "cell_type": "code",
   "execution_count": 15,
   "id": "92ef2444-9df1-4c88-a105-c7b750ee91d0",
   "metadata": {},
   "outputs": [
    {
     "data": {
      "text/plain": [
       "0.675"
      ]
     },
     "execution_count": 15,
     "metadata": {},
     "output_type": "execute_result"
    }
   ],
   "source": [
    "model.score(X,y)"
   ]
  },
  {
   "cell_type": "markdown",
   "id": "70ec3942-13dc-4b36-aedd-c5a2b1d73320",
   "metadata": {},
   "source": [
    "Se observa que el rendimiento es malo, por tanto, se prueba con otro algoritmo"
   ]
  },
  {
   "cell_type": "markdown",
   "id": "157f01f7-f580-407d-8560-83f8639c34c0",
   "metadata": {},
   "source": [
    "# Arbol de decisión"
   ]
  },
  {
   "cell_type": "markdown",
   "id": "4d1ac544-e556-428c-a2f7-e4213443c40b",
   "metadata": {},
   "source": [
    "Se excluye la variable predictiva"
   ]
  },
  {
   "cell_type": "code",
   "execution_count": 18,
   "id": "6789d9a1-052a-41e0-8a9e-92bf19ed36a7",
   "metadata": {},
   "outputs": [
    {
     "data": {
      "text/plain": [
       "Index(['Sexo', 'Tabaco', 'HTA', 'Diabetes', 'obesidad', 'edad_grup'], dtype='object')"
      ]
     },
     "execution_count": 18,
     "metadata": {},
     "output_type": "execute_result"
    }
   ],
   "source": [
    "entradas = dataframe.drop(['cardiopatia'], axis= 1)\n",
    "entradas.columns"
   ]
  },
  {
   "cell_type": "markdown",
   "id": "af237225-d8e0-44ea-ac8b-10d98809b797",
   "metadata": {},
   "source": [
    "3 parámetros que es necesario “ajustar”:\n",
    "\n",
    "    min_samples _split:  Es el numero de muestras antes de dividirse el árbol en una nueva rama\n",
    "\n",
    "    min_samples _leaf:  Es el número de muestras minino que debe tener cada hoja al final = 5 par este caso tratandose de que son muy pocos casos\n",
    "\n",
    "    max_depth:  Es el número de niveles que tendrá nuestro  el árbol = 2 par este caso, tratándose de que son muy pocos casos\n",
    "\n",
    "    class_weight  se refiere al desbalance que hubiese que corregir por desbalance entre las clases en nuestro caso 1:1.6333 ( como se había observado antes)"
   ]
  },
  {
   "cell_type": "code",
   "execution_count": 27,
   "id": "f8af633b-1283-406f-a079-3a42f9745ec7",
   "metadata": {},
   "outputs": [
    {
     "data": {
      "text/plain": [
       "DecisionTreeClassifier(class_weight={1: 1.6333}, criterion='entropy',\n",
       "                       max_depth=7, min_samples_leaf=2, min_samples_split=5)"
      ]
     },
     "execution_count": 27,
     "metadata": {},
     "output_type": "execute_result"
    }
   ],
   "source": [
    "y_train = dataframe['cardiopatia']\n",
    "x_train = dataframe.drop(['cardiopatia'],axis=1).values\n",
    "\n",
    "#Parametros del arbol de decision\n",
    "decision_tree = tree.DecisionTreeClassifier(criterion='entropy',min_samples_split=5,min_samples_leaf=2,max_depth = 7, class_weight={1:1.6333})\n",
    "\n",
    "decision_tree.fit(x_train, y_train)\n"
   ]
  },
  {
   "cell_type": "markdown",
   "id": "44357fb5-e9cd-41f3-ae01-b7cd5166be91",
   "metadata": {},
   "source": [
    "Se exporta el modelo a formato .dot y este se convierte en png para poder visualizarlo"
   ]
  },
  {
   "cell_type": "code",
   "execution_count": 44,
   "id": "1da017ea-2606-4adc-a84d-cda14ee119bc",
   "metadata": {},
   "outputs": [
    {
     "ename": "PermissionError",
     "evalue": "[Errno 13] Permission denied: '/home/ptolsa/Escritorio/Busqueda_datasets_definicion_casos_uso/'",
     "output_type": "error",
     "traceback": [
      "\u001b[0;31m---------------------------------------------------------------------------\u001b[0m",
      "\u001b[0;31mPermissionError\u001b[0m                           Traceback (most recent call last)",
      "\u001b[0;32m<ipython-input-44-ba61b3a35b4b>\u001b[0m in \u001b[0;36m<module>\u001b[0;34m\u001b[0m\n\u001b[1;32m      9\u001b[0m                             \u001b[0mrounded\u001b[0m \u001b[0;34m=\u001b[0m \u001b[0;32mTrue\u001b[0m\u001b[0;34m,\u001b[0m\u001b[0;34m\u001b[0m\u001b[0;34m\u001b[0m\u001b[0m\n\u001b[1;32m     10\u001b[0m                             filled= True)\n\u001b[0;32m---> 11\u001b[0;31m \u001b[0mcheck_call\u001b[0m\u001b[0;34m(\u001b[0m\u001b[0;34m[\u001b[0m\u001b[0;34m'/home/ptolsa/Escritorio/Busqueda_datasets_definicion_casos_uso/'\u001b[0m\u001b[0;34m,\u001b[0m\u001b[0;34m'-Tpng'\u001b[0m\u001b[0;34m,\u001b[0m\u001b[0;34mr'tree.dot'\u001b[0m\u001b[0;34m,\u001b[0m\u001b[0;34m'-o'\u001b[0m\u001b[0;34m,\u001b[0m\u001b[0;34mr'tree.png'\u001b[0m\u001b[0;34m]\u001b[0m\u001b[0;34m)\u001b[0m\u001b[0;34m\u001b[0m\u001b[0;34m\u001b[0m\u001b[0m\n\u001b[0m\u001b[1;32m     12\u001b[0m \u001b[0mPImage\u001b[0m\u001b[0;34m(\u001b[0m\u001b[0;34m\"tree.png\"\u001b[0m\u001b[0;34m)\u001b[0m\u001b[0;34m\u001b[0m\u001b[0;34m\u001b[0m\u001b[0m\n",
      "\u001b[0;32m~/anaconda3/lib/python3.8/subprocess.py\u001b[0m in \u001b[0;36mcheck_call\u001b[0;34m(*popenargs, **kwargs)\u001b[0m\n\u001b[1;32m    357\u001b[0m     \u001b[0mcheck_call\u001b[0m\u001b[0;34m(\u001b[0m\u001b[0;34m[\u001b[0m\u001b[0;34m\"ls\"\u001b[0m\u001b[0;34m,\u001b[0m \u001b[0;34m\"-l\"\u001b[0m\u001b[0;34m]\u001b[0m\u001b[0;34m)\u001b[0m\u001b[0;34m\u001b[0m\u001b[0;34m\u001b[0m\u001b[0m\n\u001b[1;32m    358\u001b[0m     \"\"\"\n\u001b[0;32m--> 359\u001b[0;31m     \u001b[0mretcode\u001b[0m \u001b[0;34m=\u001b[0m \u001b[0mcall\u001b[0m\u001b[0;34m(\u001b[0m\u001b[0;34m*\u001b[0m\u001b[0mpopenargs\u001b[0m\u001b[0;34m,\u001b[0m \u001b[0;34m**\u001b[0m\u001b[0mkwargs\u001b[0m\u001b[0;34m)\u001b[0m\u001b[0;34m\u001b[0m\u001b[0;34m\u001b[0m\u001b[0m\n\u001b[0m\u001b[1;32m    360\u001b[0m     \u001b[0;32mif\u001b[0m \u001b[0mretcode\u001b[0m\u001b[0;34m:\u001b[0m\u001b[0;34m\u001b[0m\u001b[0;34m\u001b[0m\u001b[0m\n\u001b[1;32m    361\u001b[0m         \u001b[0mcmd\u001b[0m \u001b[0;34m=\u001b[0m \u001b[0mkwargs\u001b[0m\u001b[0;34m.\u001b[0m\u001b[0mget\u001b[0m\u001b[0;34m(\u001b[0m\u001b[0;34m\"args\"\u001b[0m\u001b[0;34m)\u001b[0m\u001b[0;34m\u001b[0m\u001b[0;34m\u001b[0m\u001b[0m\n",
      "\u001b[0;32m~/anaconda3/lib/python3.8/subprocess.py\u001b[0m in \u001b[0;36mcall\u001b[0;34m(timeout, *popenargs, **kwargs)\u001b[0m\n\u001b[1;32m    338\u001b[0m     \u001b[0mretcode\u001b[0m \u001b[0;34m=\u001b[0m \u001b[0mcall\u001b[0m\u001b[0;34m(\u001b[0m\u001b[0;34m[\u001b[0m\u001b[0;34m\"ls\"\u001b[0m\u001b[0;34m,\u001b[0m \u001b[0;34m\"-l\"\u001b[0m\u001b[0;34m]\u001b[0m\u001b[0;34m)\u001b[0m\u001b[0;34m\u001b[0m\u001b[0;34m\u001b[0m\u001b[0m\n\u001b[1;32m    339\u001b[0m     \"\"\"\n\u001b[0;32m--> 340\u001b[0;31m     \u001b[0;32mwith\u001b[0m \u001b[0mPopen\u001b[0m\u001b[0;34m(\u001b[0m\u001b[0;34m*\u001b[0m\u001b[0mpopenargs\u001b[0m\u001b[0;34m,\u001b[0m \u001b[0;34m**\u001b[0m\u001b[0mkwargs\u001b[0m\u001b[0;34m)\u001b[0m \u001b[0;32mas\u001b[0m \u001b[0mp\u001b[0m\u001b[0;34m:\u001b[0m\u001b[0;34m\u001b[0m\u001b[0;34m\u001b[0m\u001b[0m\n\u001b[0m\u001b[1;32m    341\u001b[0m         \u001b[0;32mtry\u001b[0m\u001b[0;34m:\u001b[0m\u001b[0;34m\u001b[0m\u001b[0;34m\u001b[0m\u001b[0m\n\u001b[1;32m    342\u001b[0m             \u001b[0;32mreturn\u001b[0m \u001b[0mp\u001b[0m\u001b[0;34m.\u001b[0m\u001b[0mwait\u001b[0m\u001b[0;34m(\u001b[0m\u001b[0mtimeout\u001b[0m\u001b[0;34m=\u001b[0m\u001b[0mtimeout\u001b[0m\u001b[0;34m)\u001b[0m\u001b[0;34m\u001b[0m\u001b[0;34m\u001b[0m\u001b[0m\n",
      "\u001b[0;32m~/anaconda3/lib/python3.8/subprocess.py\u001b[0m in \u001b[0;36m__init__\u001b[0;34m(self, args, bufsize, executable, stdin, stdout, stderr, preexec_fn, close_fds, shell, cwd, env, universal_newlines, startupinfo, creationflags, restore_signals, start_new_session, pass_fds, encoding, errors, text)\u001b[0m\n\u001b[1;32m    856\u001b[0m                             encoding=encoding, errors=errors)\n\u001b[1;32m    857\u001b[0m \u001b[0;34m\u001b[0m\u001b[0m\n\u001b[0;32m--> 858\u001b[0;31m             self._execute_child(args, executable, preexec_fn, close_fds,\n\u001b[0m\u001b[1;32m    859\u001b[0m                                 \u001b[0mpass_fds\u001b[0m\u001b[0;34m,\u001b[0m \u001b[0mcwd\u001b[0m\u001b[0;34m,\u001b[0m \u001b[0menv\u001b[0m\u001b[0;34m,\u001b[0m\u001b[0;34m\u001b[0m\u001b[0;34m\u001b[0m\u001b[0m\n\u001b[1;32m    860\u001b[0m                                 \u001b[0mstartupinfo\u001b[0m\u001b[0;34m,\u001b[0m \u001b[0mcreationflags\u001b[0m\u001b[0;34m,\u001b[0m \u001b[0mshell\u001b[0m\u001b[0;34m,\u001b[0m\u001b[0;34m\u001b[0m\u001b[0;34m\u001b[0m\u001b[0m\n",
      "\u001b[0;32m~/anaconda3/lib/python3.8/subprocess.py\u001b[0m in \u001b[0;36m_execute_child\u001b[0;34m(self, args, executable, preexec_fn, close_fds, pass_fds, cwd, env, startupinfo, creationflags, shell, p2cread, p2cwrite, c2pread, c2pwrite, errread, errwrite, restore_signals, start_new_session)\u001b[0m\n\u001b[1;32m   1704\u001b[0m                     \u001b[0;32mif\u001b[0m \u001b[0merrno_num\u001b[0m \u001b[0;34m!=\u001b[0m \u001b[0;36m0\u001b[0m\u001b[0;34m:\u001b[0m\u001b[0;34m\u001b[0m\u001b[0;34m\u001b[0m\u001b[0m\n\u001b[1;32m   1705\u001b[0m                         \u001b[0merr_msg\u001b[0m \u001b[0;34m=\u001b[0m \u001b[0mos\u001b[0m\u001b[0;34m.\u001b[0m\u001b[0mstrerror\u001b[0m\u001b[0;34m(\u001b[0m\u001b[0merrno_num\u001b[0m\u001b[0;34m)\u001b[0m\u001b[0;34m\u001b[0m\u001b[0;34m\u001b[0m\u001b[0m\n\u001b[0;32m-> 1706\u001b[0;31m                     \u001b[0;32mraise\u001b[0m \u001b[0mchild_exception_type\u001b[0m\u001b[0;34m(\u001b[0m\u001b[0merrno_num\u001b[0m\u001b[0;34m,\u001b[0m \u001b[0merr_msg\u001b[0m\u001b[0;34m,\u001b[0m \u001b[0merr_filename\u001b[0m\u001b[0;34m)\u001b[0m\u001b[0;34m\u001b[0m\u001b[0;34m\u001b[0m\u001b[0m\n\u001b[0m\u001b[1;32m   1707\u001b[0m                 \u001b[0;32mraise\u001b[0m \u001b[0mchild_exception_type\u001b[0m\u001b[0;34m(\u001b[0m\u001b[0merr_msg\u001b[0m\u001b[0;34m)\u001b[0m\u001b[0;34m\u001b[0m\u001b[0;34m\u001b[0m\u001b[0m\n\u001b[1;32m   1708\u001b[0m \u001b[0;34m\u001b[0m\u001b[0m\n",
      "\u001b[0;31mPermissionError\u001b[0m: [Errno 13] Permission denied: '/home/ptolsa/Escritorio/Busqueda_datasets_definicion_casos_uso/'"
     ]
    }
   ],
   "source": [
    "shell=True\n",
    "with open(r'tree.dot','w') as f:\n",
    "    f = tree.export_graphviz(decision_tree,\n",
    "                            out_file=f,\n",
    "                            max_depth= 7,\n",
    "                            impurity = True,\n",
    "                            feature_names = list(dataframe.drop(['cardiopatia'],axis=1)),\n",
    "                            class_names= ['1: Sano/ Isquemia','2: Infarto Agudo'],\n",
    "                            rounded = True,\n",
    "                            filled= True)\n",
    "check_call(['/home/ptolsa/Escritorio/Busqueda_datasets_definicion_casos_uso/','-Tpng',r'tree.dot','-o',r'tree.png'])\n",
    "PImage(\"tree.png\")"
   ]
  },
  {
   "cell_type": "code",
   "execution_count": 37,
   "id": "c9061b67-32f3-462e-9068-94c8268db5fd",
   "metadata": {},
   "outputs": [
    {
     "data": {
      "text/plain": [
       "'/home/ptolsa/Escritorio/Busqueda_datasets_definicion_casos_uso'"
      ]
     },
     "execution_count": 37,
     "metadata": {},
     "output_type": "execute_result"
    }
   ],
   "source": [
    "pwd"
   ]
  },
  {
   "cell_type": "markdown",
   "id": "0c742ca8-3b44-4f16-a946-b37c8ad67b05",
   "metadata": {},
   "source": [
    "Se calcula la precisión del modelo."
   ]
  },
  {
   "cell_type": "code",
   "execution_count": 28,
   "id": "d13b378b-95cb-44f6-adbe-aa004f0b6df8",
   "metadata": {},
   "outputs": [
    {
     "data": {
      "text/plain": [
       "0.825"
      ]
     },
     "execution_count": 28,
     "metadata": {},
     "output_type": "execute_result"
    }
   ],
   "source": [
    "decision_tree.score(x_train,y_train)"
   ]
  },
  {
   "cell_type": "code",
   "execution_count": 29,
   "id": "e2eee8cb-ccbc-47f9-8404-024f6fb33605",
   "metadata": {},
   "outputs": [],
   "source": [
    "y_pred= decision_tree.predict(x_train)"
   ]
  },
  {
   "cell_type": "code",
   "execution_count": 30,
   "id": "8628825f-b86f-4acc-8d2e-5a74463535eb",
   "metadata": {},
   "outputs": [
    {
     "name": "stdout",
     "output_type": "stream",
     "text": [
      "[[27  4]\n",
      " [10 39]]\n"
     ]
    }
   ],
   "source": [
    "print(confusion_matrix(y,y_pred))"
   ]
  },
  {
   "cell_type": "markdown",
   "id": "b09c9e31-729a-4223-9b42-e34387f917cc",
   "metadata": {},
   "source": [
    "La matriz de confusión muestra 14 casos en donde el modelo falló 14 de 80 = 0.175 esto equivale a un error del 17%."
   ]
  },
  {
   "cell_type": "code",
   "execution_count": 31,
   "id": "75e76342-cfc2-4c62-9603-3d47fbd33476",
   "metadata": {},
   "outputs": [
    {
     "name": "stdout",
     "output_type": "stream",
     "text": [
      "              precision    recall  f1-score   support\n",
      "\n",
      "           1       0.73      0.87      0.79        31\n",
      "           2       0.91      0.80      0.85        49\n",
      "\n",
      "    accuracy                           0.82        80\n",
      "   macro avg       0.82      0.83      0.82        80\n",
      "weighted avg       0.84      0.82      0.83        80\n",
      "\n"
     ]
    }
   ],
   "source": [
    "print(classification_report(y,y_pred))"
   ]
  },
  {
   "cell_type": "code",
   "execution_count": null,
   "id": "84c7024d-08c2-4491-b20f-495cb700641a",
   "metadata": {},
   "outputs": [],
   "source": []
  }
 ],
 "metadata": {
  "kernelspec": {
   "display_name": "Python 3",
   "language": "python",
   "name": "python3"
  },
  "language_info": {
   "codemirror_mode": {
    "name": "ipython",
    "version": 3
   },
   "file_extension": ".py",
   "mimetype": "text/x-python",
   "name": "python",
   "nbconvert_exporter": "python",
   "pygments_lexer": "ipython3",
   "version": "3.8.8"
  }
 },
 "nbformat": 4,
 "nbformat_minor": 5
}
